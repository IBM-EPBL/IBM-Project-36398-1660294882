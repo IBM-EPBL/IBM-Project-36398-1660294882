{
  "nbformat": 4,
  "nbformat_minor": 0,
  "metadata": {
    "colab": {
      "provenance": []
    },
    "kernelspec": {
      "name": "python3",
      "display_name": "Python 3"
    },
    "language_info": {
      "name": "python"
    }
  },
  "cells": [
    {
      "cell_type": "markdown",
      "source": [
        "# Importing req. lib."
      ],
      "metadata": {
        "id": "FbTFFchDHV9T"
      }
    },
    {
      "cell_type": "code",
      "execution_count": null,
      "metadata": {
        "id": "j30hHpyrHHGx"
      },
      "outputs": [],
      "source": [
        "import cv2\n",
        "import numpy as np\n",
        "import matplotlib.pyplot as plt"
      ]
    },
    {
      "cell_type": "markdown",
      "source": [
        "# Image processiong"
      ],
      "metadata": {
        "id": "JCqELHdnIOPI"
      }
    },
    {
      "cell_type": "code",
      "source": [
        "# Create a image\n",
        "\n",
        "img1 = np.zeros((400,600,3),np.uint8)\n",
        "plt.imshow(img1)"
      ],
      "metadata": {
        "id": "NQSQ1rnkICCx"
      },
      "execution_count": null,
      "outputs": []
    },
    {
      "cell_type": "code",
      "source": [
        "# Drawing Functions"
      ],
      "metadata": {
        "id": "FEhOsGzYImaQ"
      },
      "execution_count": null,
      "outputs": []
    },
    {
      "cell_type": "code",
      "source": [
        "# Draw a circle\n",
        "\n",
        "circle = cv2.circle(img1, (300,200), 50, (255,0,0), -1)   # (0,0,0)--->(R,G,B)\n",
        "plt.imshow(img1)"
      ],
      "metadata": {
        "id": "CvGTm2mQKB0C"
      },
      "execution_count": null,
      "outputs": []
    },
    {
      "cell_type": "code",
      "source": [
        "# Drawing rectangle\n",
        "\n",
        "rectangle = cv2.rectangle(img1,(200,100),(400,300),(0,255,0),6)\n",
        "plt.imshow(img1)"
      ],
      "metadata": {
        "id": "eeB3WMD8Lv2t"
      },
      "execution_count": null,
      "outputs": []
    },
    {
      "cell_type": "code",
      "source": [
        "# Drawing line\n",
        "\n",
        "line1 = cv2.line(img1,(200,100),(400,300),(0,0,255),4)\n",
        "line2 = cv2.line(img1,(200,300),(400,100),(0,0,255),4)\n",
        "plt.imshow(img1)"
      ],
      "metadata": {
        "id": "HznJ5k5jM6Fe"
      },
      "execution_count": null,
      "outputs": []
    },
    {
      "cell_type": "code",
      "source": [
        "circle = cv2.circle(img1, (300,200), 50, (255,255,0), -1)   # (0,0,0)--->(R,G,B)\n",
        "plt.imshow(img1)"
      ],
      "metadata": {
        "id": "3Ms_lsOeOJm4"
      },
      "execution_count": null,
      "outputs": []
    },
    {
      "cell_type": "code",
      "source": [
        "# Text on image\n",
        "\n",
        "text = cv2.putText(img1, 'openCV', (200,50), cv2.FONT_HERSHEY_SIMPLEX, 2, (255,255,255),5)\n",
        "plt.imshow(img1)"
      ],
      "metadata": {
        "id": "c2iw1-0pOaJ1"
      },
      "execution_count": null,
      "outputs": []
    },
    {
      "cell_type": "code",
      "source": [
        "# Reading the image\n",
        "\n",
        "img = cv2.imread('/content/boy.jpg',1)\n",
        "plt.imshow(img)"
      ],
      "metadata": {
        "id": "FRdBaXm-Phkd"
      },
      "execution_count": null,
      "outputs": []
    },
    {
      "cell_type": "code",
      "source": [
        "# Convert BGR to RGB\n",
        "\n",
        "img_rgb = cv2.cvtColor(img, cv2.COLOR_BGR2RGB)\n",
        "plt.imshow(img_rgb)"
      ],
      "metadata": {
        "id": "52mgU4MFRm1B"
      },
      "execution_count": null,
      "outputs": []
    },
    {
      "cell_type": "code",
      "source": [
        "# Convert BGR to Gray\n",
        "\n",
        "img_gray = cv2.cvtColor(img, cv2.COLOR_BGR2GRAY)\n",
        "plt.imshow(img_gray)"
      ],
      "metadata": {
        "id": "39l-qB_ISwzn"
      },
      "execution_count": null,
      "outputs": []
    },
    {
      "cell_type": "code",
      "source": [
        "# Finding shape\n",
        "\n",
        "img_rgb.shape"
      ],
      "metadata": {
        "id": "INwmbSpVXQSa"
      },
      "execution_count": null,
      "outputs": []
    },
    {
      "cell_type": "code",
      "source": [
        "img_gray.shape"
      ],
      "metadata": {
        "id": "bbzGSiu_aDCi"
      },
      "execution_count": null,
      "outputs": []
    },
    {
      "cell_type": "code",
      "source": [
        "# Resize the image\n",
        "\n",
        "resize = cv2.resize(img_rgb,(500,1000))\n",
        "print(resize.shape)\n",
        "plt.imshow(resize)"
      ],
      "metadata": {
        "id": "PVKBRnhZTBeW"
      },
      "execution_count": null,
      "outputs": []
    },
    {
      "cell_type": "code",
      "source": [
        "# Image crop\n",
        "\n",
        "crop = resize[130:370,150:300]\n",
        "plt.imshow(crop)"
      ],
      "metadata": {
        "id": "rkVwvG2VXgSr"
      },
      "execution_count": null,
      "outputs": []
    },
    {
      "cell_type": "code",
      "source": [
        "# Edge Detection\n",
        "\n",
        "edge = cv2.Canny(img_rgb,100,200)\n",
        "plt.imshow(edge)"
      ],
      "metadata": {
        "id": "ML4ZsM_gY8wH"
      },
      "execution_count": null,
      "outputs": []
    },
    {
      "cell_type": "code",
      "source": [
        "# Blur image\n",
        "\n",
        "r = resize[130:370,150:300]\n",
        "blur = cv2.GaussianBlur(r,(13,13),cv2.BORDER_DEFAULT)\n",
        "plt.imshow(resize)\n",
        "plt.imshow(blur)"
      ],
      "metadata": {
        "id": "lFUHj9RpZviO"
      },
      "execution_count": null,
      "outputs": []
    }
  ]
}